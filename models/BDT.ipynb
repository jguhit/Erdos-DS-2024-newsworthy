{
 "cells": [
  {
   "cell_type": "code",
   "execution_count": 142,
   "metadata": {},
   "outputs": [],
   "source": [
    "import pandas as pd\n",
    "import data_engineering as de\n",
    "from sklearn.ensemble import GradientBoostingRegressor\n",
    "from xgboost import XGBRegressor\n",
    "from sklearn.model_selection import GridSearchCV\n",
    "from sklearn.feature_selection import SelectFromModel\n",
    "from sklearn.metrics import accuracy_score, mean_squared_error\n",
    "import numpy as np\n",
    "from joblib import Parallel, delayed\n",
    "import simulation\n",
    "from math import sqrt\n",
    "pd.options.mode.chained_assignment = None\n",
    "from sklearn.preprocessing import MinMaxScaler\n",
    "import warnings\n",
    "warnings.filterwarnings(action='ignore', category=np.VisibleDeprecationWarning)"
   ]
  },
  {
   "cell_type": "code",
   "execution_count": 3,
   "metadata": {},
   "outputs": [],
   "source": [
    "df_dict = de.separate_by_stock()\n",
    "df_dict = de.fillna(df_dict)"
   ]
  },
  {
   "cell_type": "code",
   "execution_count": 173,
   "metadata": {},
   "outputs": [],
   "source": [
    "def train_and_evaluate_trees_debug(model, param_grid, ticker, df, features):\n",
    "    print(f\"Processing {ticker}\")\n",
    "    try:\n",
    "        if not pd.api.types.is_datetime64_any_dtype(df.index):\n",
    "            df['date_column'] = pd.to_datetime(df['date_column'])\n",
    "            df.set_index('date_column', inplace=True)\n",
    "\n",
    "        train, test = de.train_test_split(df)\n",
    "        train, test = train[features], test[features]\n",
    "        #print(train.shape, test.shape)\n",
    "        \n",
    "        cv_splits = de.get_cv_splits(train)\n",
    "        if not cv_splits:\n",
    "            print(\"No CV splits available.\")\n",
    "\n",
    "        performances = []\n",
    "        rmses = []\n",
    "        accuracies = []\n",
    "        #best_params = []\n",
    "        #feature_ranks = {}\n",
    "        i = 0\n",
    "\n",
    "        for train_idx, test_idx in cv_splits:\n",
    "            #print(f\"CV Split {i}:\")\n",
    "            #print(f\"Train indices: {train_idx}\")\n",
    "            #print(f\"Test indices: {test_idx}\")\n",
    "\n",
    "            X_train, y_train = train.loc[train_idx].drop(columns=['y']), train.loc[train_idx]['y']\n",
    "            X_test, y_test = train.loc[test_idx].drop(columns=['y']), train.loc[test_idx]['y']\n",
    "\n",
    "            #print(X_train.shape, y_train.shape)\n",
    "            #print(X_test.shape, y_test.shape)\n",
    "\n",
    "            scaler_X = MinMaxScaler(feature_range=(-1, 1))\n",
    "            scaler_y = MinMaxScaler(feature_range=(-1, 1))\n",
    "\n",
    "            X_train_scaled = scaler_X.fit_transform(X_train)\n",
    "            X_test_scaled = scaler_X.transform(X_test)\n",
    "            y_train_scaled = scaler_y.fit_transform(y_train.values.reshape(-1, 1)).reshape(-1,)\n",
    "\n",
    "            grid_search = GridSearchCV(model, param_grid, scoring='neg_mean_squared_error')\n",
    "            grid_search.fit(X_train_scaled, y_train_scaled)\n",
    "\n",
    "            predictions = grid_search.best_estimator_.predict(X_test_scaled)\n",
    "            predictions = scaler_y.inverse_transform(predictions.reshape(-1, 1)).reshape(-1,)\n",
    "\n",
    "            rmse = sqrt(mean_squared_error(y_test, predictions))\n",
    "            #pred_rise_fall = predictions / np.abs(predictions)\n",
    "            #actual_rise_fall = y_test / np.abs(y_test)\n",
    "            #accuracy = accuracy_score(actual_rise_fall, pred_rise_fall)\n",
    "            accuracy = accuracy_score(np.sign(y_test), np.sign(predictions))\n",
    "\n",
    "            print(f'Ticker: {ticker}, Split {i}, RMSE: {rmse:.3f}, Accuracy: {accuracy:.3f}')\n",
    "\n",
    "            trading_signals = np.sign(predictions)\n",
    "            test_opens = train.loc[test_idx, \"Open\"].values\n",
    "\n",
    "            #print(f\"trading signals for split {i}: {trading_signals}\" )\n",
    "            #print(f\"Test open prices for split {i}: {test_opens}\")\n",
    "\n",
    "            rmses.append(rmse)\n",
    "            accuracies.append(accuracy)\n",
    "            performances.append((trading_signals, test_opens))\n",
    "            #best_params.append(grid_search.best_params_)\n",
    "\n",
    "            #features\n",
    "            #selector = SelectFromModel(grid_search.best_estimator_, threshold=0.01, prefit=True)\n",
    "            #feature_ranks[ticker] = [features[i] for i in selector.get_support(indices=True)]\n",
    "\n",
    "            i += 1\n",
    "\n",
    "        return ticker, performances, rmses, accuracies #, best_params, feature_ranks\n",
    "\n",
    "    except Exception as e:\n",
    "        print(\"Error encountered:\", e)\n",
    "        return None\n"
   ]
  },
  {
   "cell_type": "code",
   "execution_count": 174,
   "metadata": {},
   "outputs": [],
   "source": [
    "def run_parallel_pipeline(ticker_frames, model, features, param_grid):\n",
    "    results = Parallel(n_jobs=-1)(\n",
    "        delayed(train_and_evaluate_trees_debug)(model, param_grid, ticker, df, features)\n",
    "        for ticker, df in ticker_frames.items()\n",
    "    )\n",
    "    return results"
   ]
  },
  {
   "cell_type": "code",
   "execution_count": 175,
   "metadata": {},
   "outputs": [],
   "source": [
    "features = ['finvader_neg', 'finvader_neu', 'finvader_pos', 'finvader_tot', 'Open', 'High', 'Low', 'Close', 'Volume', 'pos_art_count', 'neg_art_count', 'neu_art_count', 'total_articles', 'Open_Diff', 'y']\n",
    "\n",
    "param_grid = {\n",
    "    'n_estimators':   [100, 500] , #[100, 250, 300, 400, 600, 750, 900, 1000, 1200]\n",
    "    'learning_rate': [0.001, 0.01], #  [0.001, 0.01]\n",
    "    'max_depth':  [2, 6]  #[2, 8] \n",
    "}"
   ]
  },
  {
   "cell_type": "code",
   "execution_count": 176,
   "metadata": {},
   "outputs": [
    {
     "name": "stdout",
     "output_type": "stream",
     "text": [
      "Processing ABBV\n",
      "Processing AAPL\n",
      "Processing GOOGL\n",
      "Processing JNJ\n",
      "Processing BAC\n",
      "Processing AMZN\n",
      "Processing MA\n",
      "Processing MSFT\n",
      "Processing MRK\n",
      "Processing LLY\n",
      "Processing JPM\n",
      "Processing NVDA\n",
      "Ticker: LLY, Split 0, RMSE: 4.693, Accuracy: 0.547\n",
      "Ticker: ABBV, Split 0, RMSE: 2.368, Accuracy: 0.594\n",
      "Ticker: BAC, Split 0, RMSE: 0.727, Accuracy: 0.469\n",
      "Ticker: MA, Split 0, RMSE: 5.428, Accuracy: 0.688\n",
      "Ticker: JPM, Split 0, RMSE: 2.177, Accuracy: 0.562\n",
      "Ticker: MRK, Split 0, RMSE: 2.797, Accuracy: 0.531\n",
      "Ticker: JNJ, Split 0, RMSE: 1.653, Accuracy: 0.641\n",
      "Ticker: NVDA, Split 0, RMSE: 9.070, Accuracy: 0.469\n",
      "Ticker: MSFT, Split 0, RMSE: 5.464, Accuracy: 0.562\n",
      "Ticker: GOOGL, Split 0, RMSE: 2.853, Accuracy: 0.500\n",
      "Ticker: AAPL, Split 0, RMSE: 3.563, Accuracy: 0.562\n",
      "Ticker: AMZN, Split 0, RMSE: 3.998, Accuracy: 0.703\n",
      "Ticker: LLY, Split 1, RMSE: 5.718, Accuracy: 0.469\n",
      "Ticker: ABBV, Split 1, RMSE: 1.981, Accuracy: 0.516\n",
      "Ticker: BAC, Split 1, RMSE: 0.682, Accuracy: 0.406\n",
      "Ticker: MA, Split 1, RMSE: 5.850, Accuracy: 0.750\n",
      "Ticker: JPM, Split 1, RMSE: 2.090, Accuracy: 0.531\n",
      "Ticker: MRK, Split 1, RMSE: 1.065, Accuracy: 0.547\n",
      "Ticker: JNJ, Split 1, RMSE: 1.534, Accuracy: 0.734\n",
      "Ticker: NVDA, Split 1, RMSE: 6.231, Accuracy: 0.469\n",
      "Ticker: MSFT, Split 1, RMSE: 5.173, Accuracy: 0.500\n",
      "Ticker: GOOGL, Split 1, RMSE: 2.284, Accuracy: 0.594\n",
      "Ticker: AAPL, Split 1, RMSE: 2.888, Accuracy: 0.562\n",
      "Ticker: AMZN, Split 1, RMSE: 3.630, Accuracy: 0.609\n",
      "Ticker: LLY, Split 2, RMSE: 6.352, Accuracy: 0.508\n",
      "Ticker: ABBV, Split 2, RMSE: 2.308, Accuracy: 0.651\n",
      "Ticker: MA, Split 2, RMSE: 5.337, Accuracy: 0.698\n",
      "Ticker: MRK, Split 2, RMSE: 1.191, Accuracy: 0.651\n",
      "Ticker: BAC, Split 2, RMSE: 0.679, Accuracy: 0.603\n",
      "Ticker: JPM, Split 2, RMSE: 2.222, Accuracy: 0.476\n",
      "Ticker: JNJ, Split 2, RMSE: 1.582, Accuracy: 0.556\n",
      "Ticker: NVDA, Split 2, RMSE: 5.034, Accuracy: 0.540\n",
      "Ticker: MSFT, Split 2, RMSE: 5.486, Accuracy: 0.444\n",
      "Ticker: AAPL, Split 2, RMSE: 3.529, Accuracy: 0.429\n",
      "Ticker: GOOGL, Split 2, RMSE: 2.382, Accuracy: 0.460\n",
      "Ticker: AMZN, Split 2, RMSE: 3.910, Accuracy: 0.429\n",
      "Ticker: LLY, Split 3, RMSE: 5.089, Accuracy: 0.500\n",
      "Processing UNH\n",
      "Ticker: ABBV, Split 3, RMSE: 1.577, Accuracy: 0.500\n",
      "Processing V\n",
      "Ticker: MRK, Split 3, RMSE: 1.418, Accuracy: 0.533\n",
      "Processing WFC\n",
      "Ticker: MA, Split 3, RMSE: 4.707, Accuracy: 0.683\n",
      "Ticker: BAC, Split 3, RMSE: 0.515, Accuracy: 0.583\n",
      "Ticker: JPM, Split 3, RMSE: 1.820, Accuracy: 0.550\n",
      "Ticker: JNJ, Split 3, RMSE: 1.669, Accuracy: 0.450\n",
      "Ticker: NVDA, Split 3, RMSE: 6.762, Accuracy: 0.467\n",
      "Ticker: UNH, Split 0, RMSE: 8.379, Accuracy: 0.578\n",
      "Ticker: MSFT, Split 3, RMSE: 5.077, Accuracy: 0.517\n",
      "Ticker: V, Split 0, RMSE: 3.764, Accuracy: 0.703\n",
      "Ticker: GOOGL, Split 3, RMSE: 2.075, Accuracy: 0.450\n",
      "Ticker: WFC, Split 0, RMSE: 0.956, Accuracy: 0.484\n",
      "Ticker: AAPL, Split 3, RMSE: 2.433, Accuracy: 0.567\n",
      "Ticker: AMZN, Split 3, RMSE: 2.550, Accuracy: 0.583\n",
      "Ticker: UNH, Split 1, RMSE: 7.914, Accuracy: 0.500\n",
      "Ticker: V, Split 1, RMSE: 3.656, Accuracy: 0.609\n",
      "Ticker: WFC, Split 1, RMSE: 0.895, Accuracy: 0.500\n",
      "Ticker: UNH, Split 2, RMSE: 8.745, Accuracy: 0.492\n",
      "Ticker: V, Split 2, RMSE: 3.051, Accuracy: 0.698\n",
      "Ticker: WFC, Split 2, RMSE: 0.827, Accuracy: 0.444\n",
      "Ticker: UNH, Split 3, RMSE: 6.313, Accuracy: 0.633\n",
      "Ticker: WFC, Split 3, RMSE: 0.744, Accuracy: 0.500\n",
      "Ticker: V, Split 3, RMSE: 2.185, Accuracy: 0.583\n"
     ]
    }
   ],
   "source": [
    "model_gbt = GradientBoostingRegressor()\n",
    "results_gbt = run_parallel_pipeline(df_dict, model_gbt, features, param_grid)"
   ]
  },
  {
   "cell_type": "code",
   "execution_count": 185,
   "metadata": {},
   "outputs": [
    {
     "name": "stdout",
     "output_type": "stream",
     "text": [
      "Processing AAPL\n",
      "Processing AMZN\n",
      "Processing BAC\n",
      "Processing ABBV\n",
      "Processing GOOGL\n",
      "Processing JNJ\n",
      "Processing MSFT\n",
      "Processing MA\n",
      "Processing MRK\n",
      "Processing LLY\n",
      "Processing NVDA\n",
      "Processing JPM\n",
      "Ticker: ABBV, Split 0, RMSE: 2.364, Accuracy: 0.609\n",
      "Ticker: LLY, Split 0, RMSE: 4.688, Accuracy: 0.562\n",
      "Ticker: BAC, Split 0, RMSE: 0.729, Accuracy: 0.516\n",
      "Ticker: GOOGL, Split 0, RMSE: 2.843, Accuracy: 0.500\n",
      "Ticker: NVDA, Split 0, RMSE: 9.059, Accuracy: 0.469\n",
      "Ticker: AAPL, Split 0, RMSE: 3.607, Accuracy: 0.516\n",
      "Ticker: MA, Split 0, RMSE: 5.558, Accuracy: 0.734\n",
      "Ticker: JPM, Split 0, RMSE: 2.173, Accuracy: 0.547\n",
      "Ticker: MRK, Split 0, RMSE: 1.440, Accuracy: 0.562\n",
      "Ticker: AMZN, Split 0, RMSE: 3.811, Accuracy: 0.688\n",
      "Ticker: MSFT, Split 0, RMSE: 5.483, Accuracy: 0.547\n",
      "Ticker: JNJ, Split 0, RMSE: 1.839, Accuracy: 0.516\n",
      "Ticker: ABBV, Split 1, RMSE: 1.981, Accuracy: 0.516\n",
      "Ticker: LLY, Split 1, RMSE: 5.739, Accuracy: 0.453\n",
      "Ticker: BAC, Split 1, RMSE: 0.671, Accuracy: 0.453\n",
      "Ticker: NVDA, Split 1, RMSE: 6.232, Accuracy: 0.469\n",
      "Ticker: GOOGL, Split 1, RMSE: 2.275, Accuracy: 0.562\n",
      "Ticker: AAPL, Split 1, RMSE: 2.851, Accuracy: 0.609\n",
      "Ticker: MA, Split 1, RMSE: 5.672, Accuracy: 0.672\n",
      "Ticker: JPM, Split 1, RMSE: 2.087, Accuracy: 0.531\n",
      "Ticker: JNJ, Split 1, RMSE: 1.680, Accuracy: 0.734\n",
      "Ticker: MRK, Split 1, RMSE: 1.174, Accuracy: 0.531\n",
      "Ticker: MSFT, Split 1, RMSE: 5.193, Accuracy: 0.500\n",
      "Ticker: AMZN, Split 1, RMSE: 3.648, Accuracy: 0.594\n",
      "Ticker: LLY, Split 2, RMSE: 6.351, Accuracy: 0.540\n",
      "Ticker: ABBV, Split 2, RMSE: 2.308, Accuracy: 0.651\n",
      "Ticker: NVDA, Split 2, RMSE: 5.021, Accuracy: 0.540\n",
      "Ticker: BAC, Split 2, RMSE: 0.691, Accuracy: 0.429\n",
      "Ticker: MA, Split 2, RMSE: 5.681, Accuracy: 0.667\n",
      "Ticker: JNJ, Split 2, RMSE: 1.578, Accuracy: 0.571\n",
      "Ticker: AAPL, Split 2, RMSE: 3.516, Accuracy: 0.429\n",
      "Ticker: GOOGL, Split 2, RMSE: 2.391, Accuracy: 0.397\n",
      "Ticker: JPM, Split 2, RMSE: 2.276, Accuracy: 0.460\n",
      "Ticker: MRK, Split 2, RMSE: 1.128, Accuracy: 0.651\n",
      "Ticker: MSFT, Split 2, RMSE: 5.484, Accuracy: 0.476\n",
      "Ticker: LLY, Split 3, RMSE: 5.104, Accuracy: 0.500\n",
      "Processing UNH\n",
      "Ticker: AMZN, Split 2, RMSE: 4.036, Accuracy: 0.429\n",
      "Ticker: NVDA, Split 3, RMSE: 6.761, Accuracy: 0.467\n",
      "Processing V\n",
      "Ticker: ABBV, Split 3, RMSE: 1.577, Accuracy: 0.500\n",
      "Processing WFC\n",
      "Ticker: BAC, Split 3, RMSE: 0.473, Accuracy: 0.633\n",
      "Ticker: JNJ, Split 3, RMSE: 1.695, Accuracy: 0.450\n",
      "Ticker: MA, Split 3, RMSE: 4.973, Accuracy: 0.667\n",
      "Ticker: MRK, Split 3, RMSE: 1.415, Accuracy: 0.550\n",
      "Ticker: AAPL, Split 3, RMSE: 2.374, Accuracy: 0.600\n",
      "Ticker: JPM, Split 3, RMSE: 1.819, Accuracy: 0.550\n",
      "Ticker: GOOGL, Split 3, RMSE: 2.071, Accuracy: 0.450\n",
      "Ticker: MSFT, Split 3, RMSE: 5.129, Accuracy: 0.533\n",
      "Ticker: UNH, Split 0, RMSE: 8.363, Accuracy: 0.578\n",
      "Ticker: V, Split 0, RMSE: 4.062, Accuracy: 0.594\n",
      "Ticker: WFC, Split 0, RMSE: 0.953, Accuracy: 0.484\n",
      "Ticker: AMZN, Split 3, RMSE: 2.478, Accuracy: 0.517\n",
      "Ticker: UNH, Split 1, RMSE: 7.934, Accuracy: 0.484\n",
      "Ticker: V, Split 1, RMSE: 3.520, Accuracy: 0.688\n",
      "Ticker: WFC, Split 1, RMSE: 0.894, Accuracy: 0.484\n",
      "Ticker: UNH, Split 2, RMSE: 8.743, Accuracy: 0.492\n",
      "Ticker: V, Split 2, RMSE: 3.259, Accuracy: 0.683\n",
      "Ticker: WFC, Split 2, RMSE: 0.827, Accuracy: 0.444\n",
      "Ticker: UNH, Split 3, RMSE: 6.842, Accuracy: 0.600\n",
      "Ticker: V, Split 3, RMSE: 2.123, Accuracy: 0.667\n",
      "Ticker: WFC, Split 3, RMSE: 0.563, Accuracy: 0.717\n"
     ]
    }
   ],
   "source": [
    "model_xgb = XGBRegressor()\n",
    "results_xgb = run_parallel_pipeline(df_dict, model_xgb, features, param_grid)"
   ]
  },
  {
   "cell_type": "code",
   "execution_count": 183,
   "metadata": {},
   "outputs": [],
   "source": [
    "def calculate_performance(results):\n",
    "    cv_trades = [{}, {}, {}, {}]\n",
    "    cv_opens = [{}, {}, {}, {}]\n",
    "\n",
    "    for result in results:\n",
    "        ticker, performances, _, _ = result\n",
    "        for i, (trading_signals, test_opens) in enumerate(performances):\n",
    "           cv_trades[i][ticker] = trading_signals\n",
    "           cv_opens[i][ticker] = test_opens\n",
    "\n",
    "    performance_porfolio = []\n",
    "    for i in range(4):\n",
    "       performance_fold = simulation.get_performance(cv_trades[i], cv_opens[i])\n",
    "       print(f'Fold {i+1} Porfolio Value: {performance_fold:.4f}')\n",
    "       performance_porfolio.append(performance_fold)\n",
    "    \n",
    "    average_portfolio_value = np.mean(performance_porfolio)\n",
    "    percent_growth = (average_portfolio_value - 1) * 100\n",
    "    print(f'Average Final Portfolio Value: {average_portfolio_value:.4f}')\n",
    "    print(f'Average Percent Growth: {percent_growth:.4f}%')\n",
    "\n",
    "    return performance_porfolio, average_portfolio_value, percent_growth\n",
    "        \n"
   ]
  },
  {
   "cell_type": "code",
   "execution_count": 184,
   "metadata": {},
   "outputs": [
    {
     "name": "stdout",
     "output_type": "stream",
     "text": [
      "Fold 1 Porfolio Value: 1.0498\n",
      "Fold 2 Porfolio Value: 1.0560\n",
      "Fold 3 Porfolio Value: 1.0577\n",
      "Fold 4 Porfolio Value: 1.0638\n",
      "Average Final Portfolio Value: 1.0568\n",
      "Average Percent Growth: 5.6842%\n"
     ]
    },
    {
     "data": {
      "text/plain": [
       "([1.049842012027107,\n",
       "  1.0560350443894293,\n",
       "  1.0577068867162116,\n",
       "  1.0637836134556287],\n",
       " 1.056841889147094,\n",
       " 5.684188914709409)"
      ]
     },
     "execution_count": 184,
     "metadata": {},
     "output_type": "execute_result"
    }
   ],
   "source": [
    "calculate_performance(results_gbt)"
   ]
  },
  {
   "cell_type": "code",
   "execution_count": 186,
   "metadata": {},
   "outputs": [
    {
     "name": "stdout",
     "output_type": "stream",
     "text": [
      "Fold 1 Porfolio Value: 1.0346\n",
      "Fold 2 Porfolio Value: 1.0467\n",
      "Fold 3 Porfolio Value: 1.0523\n",
      "Fold 4 Porfolio Value: 1.0840\n",
      "Average Final Portfolio Value: 1.0544\n",
      "Average Percent Growth: 5.4390%\n"
     ]
    },
    {
     "data": {
      "text/plain": [
       "([1.034605425226804,\n",
       "  1.0466591182993161,\n",
       "  1.0523039416307731,\n",
       "  1.0839918275149545],\n",
       " 1.054390078167962,\n",
       " 5.439007816796204)"
      ]
     },
     "execution_count": 186,
     "metadata": {},
     "output_type": "execute_result"
    }
   ],
   "source": [
    "calculate_performance(results_xgb)"
   ]
  },
  {
   "cell_type": "code",
   "execution_count": 182,
   "metadata": {},
   "outputs": [
    {
     "name": "stdout",
     "output_type": "stream",
     "text": [
      "Fold 1 Porfolio Value: 1.0498\n",
      "Fold 2 Porfolio Value: 1.0560\n",
      "Fold 3 Porfolio Value: 1.0577\n",
      "Fold 4 Porfolio Value: 1.0638\n",
      "Average Final Portfolio Value: 1.0568\n",
      "Average Percent Growth: 5.6842%\n"
     ]
    }
   ],
   "source": [
    "cv_trades = [{}, {}, {}, {}]\n",
    "cv_opens = [{}, {}, {}, {}]\n",
    "\n",
    "# Extract tickers, performances, rmses, and direction accuracies from results\n",
    "for result in results_gbt:\n",
    "    ticker, performances, _, _ = result\n",
    "    for i, (trading_signals, test_opens) in enumerate(performances):\n",
    "        cv_trades[i][ticker] = trading_signals\n",
    "        cv_opens[i][ticker] = test_opens\n",
    "\n",
    "performance_porfolio = []\n",
    "for i in range(4):\n",
    "     performance_fold = simulation.get_performance(cv_trades[i], cv_opens[i])\n",
    "     print(f'Fold {i+1} Porfolio Value: {performance_fold:.4f}')\n",
    "     performance_porfolio.append(performance_fold)\n",
    "\n",
    "average_portfolio_value = np.mean(performance_porfolio)\n",
    "percent_growth = (average_portfolio_value - 1) * 100\n",
    "print(f'Average Final Portfolio Value: {average_portfolio_value:.4f}')\n",
    "print(f'Average Percent Growth: {percent_growth:.4f}%')"
   ]
  },
  {
   "cell_type": "code",
   "execution_count": null,
   "metadata": {},
   "outputs": [],
   "source": []
  }
 ],
 "metadata": {
  "kernelspec": {
   "display_name": "Erdos-DS-2024-newsworthy",
   "language": "python",
   "name": "python3"
  },
  "language_info": {
   "codemirror_mode": {
    "name": "ipython",
    "version": 3
   },
   "file_extension": ".py",
   "mimetype": "text/x-python",
   "name": "python",
   "nbconvert_exporter": "python",
   "pygments_lexer": "ipython3",
   "version": "3.8.15"
  },
  "orig_nbformat": 4
 },
 "nbformat": 4,
 "nbformat_minor": 2
}
